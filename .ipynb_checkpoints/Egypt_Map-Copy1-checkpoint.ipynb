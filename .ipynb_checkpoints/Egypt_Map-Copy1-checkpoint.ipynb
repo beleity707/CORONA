{
 "cells": [
  {
   "cell_type": "code",
   "execution_count": 1,
   "metadata": {},
   "outputs": [],
   "source": [
    "import os\n",
    "import numpy as np\n",
    "import pandas as pd\n",
    "import folium\n",
    "#pd.options.display.width = 0\n",
    "pd.set_option('display.max_rows', 500)\n",
    "pd.set_option('display.max_columns', 500)\n",
    "pd.set_option('display.width', 1000)"
   ]
  },
  {
   "cell_type": "code",
   "execution_count": 2,
   "metadata": {},
   "outputs": [],
   "source": [
    "import folium\n",
    "import pandas as pd\n",
    "import json\n",
    "from folium import plugins\n"
   ]
  },
  {
   "cell_type": "code",
   "execution_count": 3,
   "metadata": {},
   "outputs": [],
   "source": [
    "with open('E:/Big Data Diploma/Project/Project/New folder/CommunityDistricts.geojson') as f:\n",
    "    NyArea = json.load(f)\n",
    "    "
   ]
  },
  {
   "cell_type": "code",
   "execution_count": null,
   "metadata": {},
   "outputs": [],
   "source": [
    "c = \"E:/Big Data Diploma/Project/Github/NU_Diploma_Project/Ahmed_Crime_Borough_CD_Street_summary.csv\"    \n",
    "c = pd.read_csv(c,dtype={'Boro_DC': object})\n"
   ]
  },
  {
   "cell_type": "code",
   "execution_count": 5,
   "metadata": {},
   "outputs": [
    {
     "data": {
      "text/html": [
       "<div>\n",
       "<style scoped>\n",
       "    .dataframe tbody tr th:only-of-type {\n",
       "        vertical-align: middle;\n",
       "    }\n",
       "\n",
       "    .dataframe tbody tr th {\n",
       "        vertical-align: top;\n",
       "    }\n",
       "\n",
       "    .dataframe thead th {\n",
       "        text-align: right;\n",
       "    }\n",
       "</style>\n",
       "<table border=\"1\" class=\"dataframe\">\n",
       "  <thead>\n",
       "    <tr style=\"text-align: right;\">\n",
       "      <th></th>\n",
       "      <th>BORO_NM</th>\n",
       "      <th>Boro_DC</th>\n",
       "      <th>Street</th>\n",
       "      <th>ASSAULT</th>\n",
       "      <th>BURGLARY</th>\n",
       "      <th>DRUGS</th>\n",
       "      <th>GRAND LARCENY</th>\n",
       "      <th>HARRASSMENT</th>\n",
       "      <th>Other SEX CRIMES</th>\n",
       "      <th>PETIT LARCENY</th>\n",
       "      <th>RAPE</th>\n",
       "      <th>ROBBERY</th>\n",
       "      <th>WEAPONS</th>\n",
       "    </tr>\n",
       "  </thead>\n",
       "  <tbody>\n",
       "    <tr>\n",
       "      <th>0</th>\n",
       "      <td>BRONX</td>\n",
       "      <td>110</td>\n",
       "      <td>WEST  135 STREET</td>\n",
       "      <td>1.0</td>\n",
       "      <td>NaN</td>\n",
       "      <td>NaN</td>\n",
       "      <td>NaN</td>\n",
       "      <td>NaN</td>\n",
       "      <td>NaN</td>\n",
       "      <td>NaN</td>\n",
       "      <td>NaN</td>\n",
       "      <td>NaN</td>\n",
       "      <td>NaN</td>\n",
       "    </tr>\n",
       "    <tr>\n",
       "      <th>1</th>\n",
       "      <td>BRONX</td>\n",
       "      <td>112</td>\n",
       "      <td>AMSTERDAM AVENUE</td>\n",
       "      <td>NaN</td>\n",
       "      <td>NaN</td>\n",
       "      <td>1.0</td>\n",
       "      <td>NaN</td>\n",
       "      <td>NaN</td>\n",
       "      <td>NaN</td>\n",
       "      <td>NaN</td>\n",
       "      <td>NaN</td>\n",
       "      <td>NaN</td>\n",
       "      <td>NaN</td>\n",
       "    </tr>\n",
       "  </tbody>\n",
       "</table>\n",
       "</div>"
      ],
      "text/plain": [
       "  BORO_NM Boro_DC            Street  ASSAULT  BURGLARY  DRUGS  GRAND LARCENY  HARRASSMENT  Other SEX CRIMES  PETIT LARCENY  RAPE  ROBBERY  WEAPONS\n",
       "0   BRONX     110  WEST  135 STREET      1.0       NaN    NaN            NaN          NaN               NaN            NaN   NaN      NaN      NaN\n",
       "1   BRONX     112  AMSTERDAM AVENUE      NaN       NaN    1.0            NaN          NaN               NaN            NaN   NaN      NaN      NaN"
      ]
     },
     "execution_count": 5,
     "metadata": {},
     "output_type": "execute_result"
    }
   ],
   "source": [
    "c[:2]"
   ]
  },
  {
   "cell_type": "code",
   "execution_count": 6,
   "metadata": {},
   "outputs": [
    {
     "data": {
      "text/html": [
       "<div>\n",
       "<style scoped>\n",
       "    .dataframe tbody tr th:only-of-type {\n",
       "        vertical-align: middle;\n",
       "    }\n",
       "\n",
       "    .dataframe tbody tr th {\n",
       "        vertical-align: top;\n",
       "    }\n",
       "\n",
       "    .dataframe thead th {\n",
       "        text-align: right;\n",
       "    }\n",
       "</style>\n",
       "<table border=\"1\" class=\"dataframe\">\n",
       "  <thead>\n",
       "    <tr style=\"text-align: right;\">\n",
       "      <th></th>\n",
       "      <th>Boro_DC</th>\n",
       "      <th>count</th>\n",
       "    </tr>\n",
       "  </thead>\n",
       "  <tbody>\n",
       "    <tr>\n",
       "      <th>65</th>\n",
       "      <td>501</td>\n",
       "      <td>611</td>\n",
       "    </tr>\n",
       "    <tr>\n",
       "      <th>67</th>\n",
       "      <td>503</td>\n",
       "      <td>466</td>\n",
       "    </tr>\n",
       "    <tr>\n",
       "      <th>66</th>\n",
       "      <td>502</td>\n",
       "      <td>420</td>\n",
       "    </tr>\n",
       "    <tr>\n",
       "      <th>60</th>\n",
       "      <td>414</td>\n",
       "      <td>314</td>\n",
       "    </tr>\n",
       "    <tr>\n",
       "      <th>58</th>\n",
       "      <td>412</td>\n",
       "      <td>308</td>\n",
       "    </tr>\n",
       "  </tbody>\n",
       "</table>\n",
       "</div>"
      ],
      "text/plain": [
       "   Boro_DC  count\n",
       "65     501    611\n",
       "67     503    466\n",
       "66     502    420\n",
       "60     414    314\n",
       "58     412    308"
      ]
     },
     "execution_count": 6,
     "metadata": {},
     "output_type": "execute_result"
    }
   ],
   "source": [
    "#group the starbucks dataframe by zip code and count the number of stores in each zip code\n",
    "\n",
    "numSchoolSeries = c.groupby(['Boro_DC']).count().Street\n",
    "\n",
    "#initialize an empty dataframe to store this new data\n",
    "\n",
    "numSchoolByDistrict = pd.DataFrame()\n",
    "\n",
    "#populate the new dataframe with a 'District' column and a 'Count' column\n",
    "\n",
    "numSchoolByDistrict['Boro_DC'] = [str(i) for i in numSchoolSeries.index]\n",
    "\n",
    "\n",
    "numSchoolByDistrict['count'] = numSchoolSeries.values\n",
    "\n",
    "numSchoolByDistrict.sort_values(by='count',ascending=False).head()\n"
   ]
  },
  {
   "cell_type": "code",
   "execution_count": 15,
   "metadata": {
    "scrolled": true
   },
   "outputs": [
    {
     "name": "stderr",
     "output_type": "stream",
     "text": [
      "C:\\Users\\User\\Anaconda3\\lib\\site-packages\\folium\\folium.py:415: FutureWarning: The choropleth  method has been deprecated. Instead use the new Choropleth class, which has the same arguments. See the example notebook 'GeoJSON_and_choropleth' for how to do this.\n",
      "  FutureWarning\n"
     ]
    }
   ],
   "source": [
    "geopath = 'E:/Big Data Diploma/Project/Project/New folder/CommunityDistricts.geojson'\n",
    "\n",
    "#creating choropleth map for with a starting point in the below coordinates\n",
    "District_Map = folium.Map(location=[40.693943, -73.985880], zoom_start=12)\n",
    "\n",
    "#creating choropleth map for with the below parameters and values\n",
    "choropleth = District_Map.choropleth(geo_data = geopath,                    # Define the geojson map that will be used \n",
    "                data = numSchoolByDistrict,            # Assign the dataFrame that will be used \n",
    "                columns = ['Boro_DC', 'count'],        # Define the columns in the DF that will be used\n",
    "                key_on = 'feature.properties.boro_cd', # Define the column in the geojson map that will be joined with the DataFrame\n",
    "                fill_color = 'YlOrRd',                 # Assign the color that will be used in the Map\n",
    "                fill_opacity = 0.7,                    # The opacity of the color\n",
    "                line_opacity = 0.2,\n",
    "                threshold_scale=[0, 100, 200, 300, 500,612],   # Assign the bar ranges VIP it should be over the max range of the dataFrame values which is 14 in our case\n",
    "                legend_name = 'Crimes by District')   # A label under the bar\n",
    "\n",
    "\n",
    "#choropleth.geojson.add_child(folium.features.GeoJsonTooltip(['Postcode4']))\n"
   ]
  },
  {
   "cell_type": "code",
   "execution_count": 16,
   "metadata": {},
   "outputs": [],
   "source": [
    "# Create the Dropdown list looking for \n",
    "from ipywidgets import Layout\n",
    "import ipywidgets as widgets\n",
    "from IPython.display import display"
   ]
  },
  {
   "cell_type": "code",
   "execution_count": 17,
   "metadata": {},
   "outputs": [
    {
     "data": {
      "application/vnd.jupyter.widget-view+json": {
       "model_id": "cbfadaa47ef04dc88a71ed2548c28f86",
       "version_major": 2,
       "version_minor": 0
      },
      "text/plain": [
       "Dropdown(description='Job Title:', layout=Layout(width='30%'), options=('stamentoner', 'stamenTerrain', 'opens…"
      ]
     },
     "metadata": {},
     "output_type": "display_data"
    }
   ],
   "source": [
    "MapType = ['stamentoner','stamenTerrain','openstreetmap','cartodbpositron']\n",
    "\n",
    "# In case list is needed\n",
    "L = widgets.Dropdown(\n",
    "    options=MapType,\n",
    "    description='Job Title:',\n",
    "    rows=10,\n",
    "    layout=Layout(width=\"30%\"),\n",
    "    disabled=False\n",
    ")\n",
    "\n",
    "display (L)"
   ]
  },
  {
   "cell_type": "code",
   "execution_count": 18,
   "metadata": {},
   "outputs": [
    {
     "data": {
      "text/plain": [
       "<folium.raster_layers.TileLayer at 0x218d1e93208>"
      ]
     },
     "execution_count": 18,
     "metadata": {},
     "output_type": "execute_result"
    }
   ],
   "source": [
    "folium.TileLayer(L.value).add_to(District_Map)"
   ]
  },
  {
   "cell_type": "code",
   "execution_count": 19,
   "metadata": {},
   "outputs": [],
   "source": [
    "District_Map.save('District_Map_Crimes.html')"
   ]
  },
  {
   "cell_type": "code",
   "execution_count": null,
   "metadata": {},
   "outputs": [],
   "source": []
  }
 ],
 "metadata": {
  "kernelspec": {
   "display_name": "Python 3",
   "language": "python",
   "name": "python3"
  },
  "language_info": {
   "codemirror_mode": {
    "name": "ipython",
    "version": 3
   },
   "file_extension": ".py",
   "mimetype": "text/x-python",
   "name": "python",
   "nbconvert_exporter": "python",
   "pygments_lexer": "ipython3",
   "version": "3.7.1"
  }
 },
 "nbformat": 4,
 "nbformat_minor": 2
}
